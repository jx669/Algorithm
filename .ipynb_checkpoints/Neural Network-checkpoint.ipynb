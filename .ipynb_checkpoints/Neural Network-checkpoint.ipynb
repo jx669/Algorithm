{
 "cells": [
  {
   "cell_type": "markdown",
   "metadata": {},
   "source": [
    "## Deep Learning With Neural Network"
   ]
  },
  {
   "cell_type": "markdown",
   "metadata": {},
   "source": [
    "概念几十年前都存在，但是需要：1，海量数据，2，有强计算能力的计算机。这两者才出现，所以神经网络最近才火。\n",
    "\n",
    "最大的优点：模拟逻辑。之前的计算机需要人给逻辑，比如classification, 神经网络不需要这些。给大量的数据，和结果，它自己可以推测出逻辑来。"
   ]
  },
  {
   "cell_type": "code",
   "execution_count": null,
   "metadata": {
    "collapsed": true
   },
   "outputs": [],
   "source": []
  }
 ],
 "metadata": {
  "kernelspec": {
   "display_name": "Python 3",
   "language": "python",
   "name": "python3"
  },
  "language_info": {
   "codemirror_mode": {
    "name": "ipython",
    "version": 3
   },
   "file_extension": ".py",
   "mimetype": "text/x-python",
   "name": "python",
   "nbconvert_exporter": "python",
   "pygments_lexer": "ipython3",
   "version": "3.6.0"
  }
 },
 "nbformat": 4,
 "nbformat_minor": 2
}
