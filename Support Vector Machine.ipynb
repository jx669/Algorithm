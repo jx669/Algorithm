{
 "cells": [
  {
   "cell_type": "markdown",
   "metadata": {},
   "source": [
    "# Support Vector Machine\n",
    "\n",
    "Notes for https://www.youtube.com/playlist?list=PLQVvvaa0QuDfKTOs3Keq_kaG2P55YRn5v\n",
    "\n",
    "License: Standard Youtube License"
   ]
  },
  {
   "cell_type": "markdown",
   "metadata": {},
   "source": [
    "## Video 20: Support Vector Machine Intro and Application"
   ]
  },
  {
   "cell_type": "code",
   "execution_count": 3,
   "metadata": {
    "collapsed": false
   },
   "outputs": [],
   "source": [
    "import numpy as np \n",
    "from sklearn import preprocessing, cross_validation, neighbors, svm\n",
    "import pandas as pd"
   ]
  },
  {
   "cell_type": "code",
   "execution_count": 6,
   "metadata": {
    "collapsed": false
   },
   "outputs": [
    {
     "name": "stdout",
     "output_type": "stream",
     "text": [
      "0.942857142857\n"
     ]
    }
   ],
   "source": [
    "df = pd.read_csv('breast-cancer-wisconsin.data.txt')\n",
    "df.replace('?', -99999, inplace= True)\n",
    "df.drop(['id'], 1, inplace=True)\n",
    "\n",
    "X = np.array(df.drop(['class'], 1))\n",
    "y = np.array(df['class'])\n",
    "X_train, X_test, y_train, y_test = cross_validation.train_test_split(X, y, test_size = 0.2)\n",
    "\n",
    "# clf = neighbors.KNeighborsClassifier()\n",
    "clf = svm.SVC()  ##this is the only line that needs to change\n",
    "clf.fit(X_train, y_train)\n",
    "\n",
    "accuracy = clf.score(X_test, y_test)\n",
    "print(accuracy)"
   ]
  },
  {
   "cell_type": "markdown",
   "metadata": {},
   "source": [
    "## Video 21: Understanding Vectors"
   ]
  },
  {
   "cell_type": "markdown",
   "metadata": {},
   "source": [
    "vectors include direction and magnitude.\n",
    "\n",
    "dot product of vectors: scalar value \n",
    "\n",
    "dot product: (X1* x2) + (y1* y2)"
   ]
  },
  {
   "cell_type": "markdown",
   "metadata": {},
   "source": [
    "## Video 22: Support Vector Assertion\n"
   ]
  },
  {
   "cell_type": "markdown",
   "metadata": {},
   "source": [
    "decision boundary: want the width between the positive and negative as large as possible\n",
    "\n",
    "\n",
    "+class: x_i * w + b = 1\n",
    "\n",
    "\n",
    "-class: x_i * w + b = -1\n"
   ]
  },
  {
   "cell_type": "markdown",
   "metadata": {},
   "source": [
    "## Video 23: Support Vector Machine Fundamentals"
   ]
  },
  {
   "cell_type": "markdown",
   "metadata": {},
   "source": [
    "Suppose we have a vector u_bar that we need to classify, then we have a support vector\n",
    "\n",
    "w_bar that is perpendicular to the decision boundary, if we get the dot product of them,\n",
    "\n",
    "we get the projection of u_bar on the perpendular line. \n",
    "\n",
    "All we need is to check whether w_bar * u_bar >= c (constant), if so, it is on the right side; or, the left.\n",
    "\n",
    "\n",
    "Decision rule:\n",
    "\n",
    "\n",
    "w_bar * u_bar + b >=0, then positive"
   ]
  },
  {
   "cell_type": "markdown",
   "metadata": {},
   "source": [
    "https://www.youtube.com/watch?v=_PwhiWxHK8o\n",
    "\n",
    "an mit lecutre on the math of SVM. Explained more coherently. "
   ]
  },
  {
   "cell_type": "markdown",
   "metadata": {},
   "source": [
    "it is an optimization problem. the soltuion is more than one answer. \n",
    "\n",
    "smallest w_bar is the goal. Also called global minimum. \n",
    "\n",
    "this algo is guaranteed to converge at global minimum.\n",
    "\n",
    "svm is convex optimization problem\n",
    "\n"
   ]
  },
  {
   "cell_type": "markdown",
   "metadata": {},
   "source": [
    "## Video 25: Creating an SVM from Scratch"
   ]
  },
  {
   "cell_type": "code",
   "execution_count": 1,
   "metadata": {
    "collapsed": true
   },
   "outputs": [],
   "source": [
    "import matplotlib.pyplot as plt\n",
    "from matplotlib import style\n",
    "import numpy as np\n",
    "style.use('ggplot')"
   ]
  },
  {
   "cell_type": "code",
   "execution_count": 4,
   "metadata": {
    "collapsed": false
   },
   "outputs": [],
   "source": [
    "class Support_Vector_Machine:\n",
    "    def _init_(self, visualization = True):\n",
    "        self.visualization = visualization\n",
    "        self.colors = {1: 'r', -1: 'b'}\n",
    "        if self.visualization:\n",
    "            self.fig = plt.figure()\n",
    "            self.ax = self.fig.add_subplot(1, 1, 1)\n",
    "    \n",
    "    # train\n",
    "    def fit(self, data):\n",
    "        pass\n",
    "    \n",
    "    def predict (self, features):\n",
    "        # sign(x*w+b)\n",
    "        classification = np.sign(np.dot(np.array(features), self.w) + self.b)\n",
    "        \n",
    "        return classification"
   ]
  },
  {
   "cell_type": "code",
   "execution_count": 2,
   "metadata": {
    "collapsed": true
   },
   "outputs": [],
   "source": [
    "data_dict = {-1: np.array([[1, 7], [2, 8], [3, 8]]), \n",
    "             1 : np.array([[5, 1], [6, -1], [7, 3]])}"
   ]
  },
  {
   "cell_type": "markdown",
   "metadata": {},
   "source": [
    "## Video 26, 27, 28: SVM Training"
   ]
  },
  {
   "cell_type": "code",
   "execution_count": 19,
   "metadata": {
    "collapsed": false
   },
   "outputs": [],
   "source": [
    "class Support_Vector_Machine:\n",
    "    def __init__(self, visualization = True):\n",
    "        self.visualization = visualization\n",
    "        self.colors = {1: 'r', -1: 'b'}\n",
    "        if self.visualization:\n",
    "            self.fig = plt.figure()\n",
    "            self.ax = self.fig.add_subplot(1, 1, 1)\n",
    "    \n",
    "    # train\n",
    "    def fit(self, data):\n",
    "        self.data = data\n",
    "        # {||W||: [w, b]}\n",
    "        opt_dict = { }\n",
    "        \n",
    "        transforms = [ [1, 1],\n",
    "                      [-1, 1],\n",
    "                      [-1, -1],\n",
    "                      [1, -1]]\n",
    "        \n",
    "        all_data = []\n",
    "        for yi in self.data:\n",
    "            for featureset in self.data[yi]:\n",
    "                for feature in featureset:\n",
    "                    all_data.append(feature)\n",
    "                    \n",
    "        self.max_feature_value = max(all_data)\n",
    "        self.min_feature_value = min(all_data)\n",
    "        all_data = None\n",
    "        \n",
    "        # constraint yi(xi*w+b) =1\n",
    "        step_sizes = [self.max_feature_value  * 0.1, \n",
    "                     self.max_feature_value  * 0.01,\n",
    "                      # as the number decreases, it gets more expensive\n",
    "                     self.max_feature_value  * 0.001]\n",
    "        \n",
    "        #extremely expensive. B does not need to take as small steps as w.\n",
    "        b_range_multiple = 2 \n",
    "        b_multiple = 5\n",
    "        \n",
    "        latest_optimum = self.max_feature_value * 10\n",
    "        \n",
    "        for step in step_sizes:\n",
    "            w = np.array([latest_optimum,  latest_optimum])\n",
    "            # we can do this because convex\n",
    "            optimized = False\n",
    "            while not optimized:\n",
    "                for b in np.arange(-1 * (self.max_feature_value * b_range_multiple),\n",
    "                                  self.max_feature_value * b_range_multiple,\n",
    "                                  step*b_multiple):\n",
    "                    for transformation in transforms:\n",
    "                        w_t = w * transformation\n",
    "                        found_option = True\n",
    "                        # weakest link in the SVM fundamentally\n",
    "                        # SMO attempts to fix this a bit\n",
    "                        # yi (xi * w + b) >=1\n",
    "                        # add a break later...\n",
    "                        for i in self.data:\n",
    "                            for xi in self.data[i]:\n",
    "                                yi = i\n",
    "                                if not yi*(np.dot (w_t, xi) + b) >=1:\n",
    "                                    found_option = False\n",
    "                        if found_option:\n",
    "                            opt_dict[np.linalg.norm(w_t)] = [w_t,b]\n",
    "                if w[0]<0:\n",
    "                    optimized = True\n",
    "                    print(\"optimized a step\")\n",
    "                else:\n",
    "                    # w= [5, 5]\n",
    "                    # step = 1\n",
    "                    # w - step = [4, 4]\n",
    "                    w = w - step\n",
    "                    \n",
    "            norms = sorted([n for n in opt_dict])\n",
    "            \n",
    "            #||w||: [w, b]\n",
    "            opt_choice = opt_dict[norms[0]]  #smallest norms\n",
    "            self.w = opt_choice[0]\n",
    "            self.b = opt_choice[1]\n",
    "            latest_optimum = opt_choice[0][0] + step *2 \n",
    "            \n",
    "        for i in self.data:\n",
    "            for xi in self.data[i]:\n",
    "                yi=i\n",
    "                print(xi,':',yi*(np.dot(self.w,xi)+self.b))             \n",
    "                         \n",
    "    \n",
    "    def predict (self, features):\n",
    "        # sign(x*w+b)\n",
    "        classification = np.sign(np.dot(np.array(features), self.w) + self.b)\n",
    "        \n",
    "        if classification != 0 and self.visualization: \n",
    "            self.ax.scatter(features[0], features[1], s =200,\n",
    "                            marker = '*', c = self.colors[classification])\n",
    "        \n",
    "        return classification\n",
    "    \n",
    "    def visualize (self):\n",
    "        [[self.ax.scatter(x[0], x[1], s = 100, color = self.colors[i])\n",
    "        for x in data_dict[i]] \n",
    "         for i in data_dict]\n",
    "        \n",
    "        # hyperplane v = x*w +b\n",
    "        # psv = 1, nsv = -1\n",
    "        # dec = 0\n",
    "        def hyperplane (x, w, b, v):\n",
    "            return (-w[0]*x -b +v)/w[1]\n",
    "        \n",
    "        datarange = (self.min_feature_value * 0.9, self.max_feature_value *1.1)\n",
    "        hyp_x_min = datarange[0]\n",
    "        hyp_x_max = datarange[1]\n",
    "        \n",
    "        #(w.x+b)=1\n",
    "        psv1 = hyperplane (hyp_x_min, self.w, self.b, 1)\n",
    "        psv2 = hyperplane (hyp_x_max, self.w, self.b, 1)\n",
    "        self.ax.plot([hyp_x_min, hyp_x_max], [psv1, psv2], 'k')\n",
    "        \n",
    "          #(w.x+b)=-1\n",
    "        nsv1 = hyperplane (hyp_x_min, self.w, self.b, -1)\n",
    "        nsv2 = hyperplane (hyp_x_max, self.w, self.b, -1)\n",
    "        self.ax.plot([hyp_x_min, hyp_x_max], [nsv1, nsv2], 'k')\n",
    "        \n",
    "          #(w.x+b)=0\n",
    "        db1 = hyperplane (hyp_x_min, self.w, self.b, 0)\n",
    "        db2 = hyperplane (hyp_x_max, self.w, self.b, 0)\n",
    "        self.ax.plot([hyp_x_min, hyp_x_max], [db1, db2], 'y--')\n",
    "        \n",
    "        plt.show() \n",
    "        "
   ]
  },
  {
   "cell_type": "code",
   "execution_count": 5,
   "metadata": {
    "collapsed": true
   },
   "outputs": [],
   "source": [
    "#vectors\n",
    "\n",
    "data_dict = {-1: np.array([[1, 7], [2, 8], [3, 8]]), \n",
    "             1 : np.array([[5, 1], [6, -1], [7, 3]])}"
   ]
  },
  {
   "cell_type": "code",
   "execution_count": 20,
   "metadata": {
    "collapsed": false
   },
   "outputs": [
    {
     "name": "stdout",
     "output_type": "stream",
     "text": [
      "optimized a step\n",
      "optimized a step\n",
      "optimized a step\n",
      "[1 7] : 1.272\n",
      "[2 8] : 1.272\n",
      "[3 8] : 1.04\n",
      "[5 1] : 1.048\n",
      "[ 6 -1] : 1.744\n",
      "[7 3] : 1.048\n"
     ]
    },
    {
     "data": {
      "image/png": "[encoded data removed]",
      "text/plain": [
       "<matplotlib.figure.Figure at 0x117b47be0>"
      ]
     },
     "metadata": {},
     "output_type": "display_data"
    },
    {
     "data": {
      "image/png": "[encoded data removed]",
      "text/plain": [
       "<matplotlib.figure.Figure at 0x117c321d0>"
      ]
     },
     "metadata": {},
     "output_type": "display_data"
    },
    {
     "data": {
      "image/png": "[encoded data removed]",
      "text/plain": [
       "<matplotlib.figure.Figure at 0x117cc2400>"
      ]
     },
     "metadata": {},
     "output_type": "display_data"
    }
   ],
   "source": [
    "svm = Support_Vector_Machine()\n",
    "svm.fit(data = data_dict)\n",
    "svm.visualize()"
   ]
  },
  {
   "cell_type": "code",
   "execution_count": 14,
   "metadata": {
    "collapsed": true
   },
   "outputs": [],
   "source": [
    "-"
   ]
  },
  {
   "cell_type": "code",
   "execution_count": null,
   "metadata": {
    "collapsed": true
   },
   "outputs": [],
   "source": []
  }
 ],
 "metadata": {
  "kernelspec": {
   "display_name": "Python 3",
   "language": "python",
   "name": "python3"
  },
  "language_info": {
   "codemirror_mode": {
    "name": "ipython",
    "version": 3
   },
   "file_extension": ".py",
   "mimetype": "text/x-python",
   "name": "python",
   "nbconvert_exporter": "python",
   "pygments_lexer": "ipython3",
   "version": "3.6.0"
  }
 },
 "nbformat": 4,
 "nbformat_minor": 2
}
