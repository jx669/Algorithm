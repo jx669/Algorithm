{
 "cells": [
  {
   "cell_type": "markdown",
   "metadata": {},
   "source": [
    "## Mean Shift\n",
    "\n",
    "notes for this video series: https://www.youtube.com/watch?v=3ERPpzrDkVg&index=39&list=PLQVvvaa0QuDfKTOs3Keq_kaG2P55YRn5v"
   ]
  },
  {
   "cell_type": "markdown",
   "metadata": {
    "collapsed": true
   },
   "source": [
    "## Video 39: Mean Shift"
   ]
  },
  {
   "cell_type": "code",
   "execution_count": 2,
   "metadata": {
    "collapsed": false
   },
   "outputs": [],
   "source": [
    "import numpy as np\n",
    "from sklearn.cluster import MeanShift, KMeans\n",
    "from sklearn import preprocessing, cross_validation\n",
    "import pandas as pd\n",
    "import matplotlib.pyplot as plt"
   ]
  },
  {
   "cell_type": "code",
   "execution_count": 40,
   "metadata": {
    "collapsed": true
   },
   "outputs": [],
   "source": [
    "# https://pythonprogramming.net/static/downloads/machine-learning-data/titanic.xls\n",
    "\n",
    "#Base on the code in K Means\n",
    "\n",
    "df = pd.read_excel('titanic.xls')\n",
    "\n",
    "original_df = pd.DataFrame.copy(df)  # this is new, make a copy of the original df\n",
    "df.drop(['body','name'], 1, inplace=True)\n",
    "df.fillna(0,inplace=True)\n",
    "\n",
    "def handle_non_numerical_data(df):\n",
    "    \n",
    "    # handling non-numerical data: must convert.\n",
    "    columns = df.columns.values\n",
    "\n",
    "    for column in columns:\n",
    "        text_digit_vals = {}\n",
    "        def convert_to_int(val):\n",
    "            return text_digit_vals[val]\n",
    "\n",
    "        #print(column,df[column].dtype)\n",
    "        if df[column].dtype != np.int64 and df[column].dtype != np.float64:\n",
    "            \n",
    "            column_contents = df[column].values.tolist()\n",
    "            #finding just the uniques\n",
    "            unique_elements = set(column_contents)\n",
    "            # great, found them. \n",
    "            x = 0\n",
    "            for unique in unique_elements:\n",
    "                if unique not in text_digit_vals:\n",
    "                    # creating dict that contains new\n",
    "                    # id per unique string\n",
    "                    text_digit_vals[unique] = x\n",
    "                    x+=1\n",
    "            # now we map the new \"id\" vlaue\n",
    "            # to replace the string. \n",
    "            df[column] = list(map(convert_to_int,df[column]))\n",
    "        \n",
    "    return df"
   ]
  },
  {
   "cell_type": "code",
   "execution_count": 41,
   "metadata": {
    "collapsed": false
   },
   "outputs": [
    {
     "data": {
      "text/plain": [
       "MeanShift(bandwidth=None, bin_seeding=False, cluster_all=True, min_bin_freq=1,\n",
       "     n_jobs=1, seeds=None)"
      ]
     },
     "execution_count": 41,
     "metadata": {},
     "output_type": "execute_result"
    }
   ],
   "source": [
    "df = handle_non_numerical_data(df)\n",
    "df.drop(['ticket','home.dest'], 1, inplace=True)\n",
    "\n",
    "X = np.array(df.drop(['survived'], 1).astype(float))\n",
    "X = preprocessing.scale(X)\n",
    "y = np.array(df['survived'])\n",
    "\n",
    "clf = MeanShift()\n",
    "clf.fit(X)"
   ]
  },
  {
   "cell_type": "code",
   "execution_count": 42,
   "metadata": {
    "collapsed": false
   },
   "outputs": [],
   "source": [
    "labels = clf.labels_\n",
    "cluster_centers = clf.cluster_centers_\n",
    "original_df['cluster_group'] = np.nan\n"
   ]
  },
  {
   "cell_type": "code",
   "execution_count": 30,
   "metadata": {
    "collapsed": false
   },
   "outputs": [],
   "source": [
    "for i, label in enumerate(labels):\n",
    "        #original_df['cluster_group'].iloc[i] = label\n",
    "        original_df.loc.__setitem__(('cluster_group', i), label)   ##me revised to avoid warning"
   ]
  },
  {
   "cell_type": "code",
   "execution_count": 31,
   "metadata": {
    "collapsed": false
   },
   "outputs": [
    {
     "name": "stdout",
     "output_type": "stream",
     "text": [
      "{0: 0.373581847649919, 1: 0.19230769230769232, 2: 1.0, 3: 0.675, 4: 0.0}\n"
     ]
    }
   ],
   "source": [
    "n_clusters_ = len(np.unique(labels))\n",
    "survival_rates = {}\n",
    "for i in range(n_clusters_):\n",
    "    temp_df = original_df[ (original_df['cluster_group']==float(i)) ]\n",
    "    #print(temp_df.head())\n",
    "\n",
    "    survival_cluster = temp_df[  (temp_df['survived'] == 1) ]\n",
    "\n",
    "    survival_rate = len(survival_cluster) / len(temp_df)\n",
    "    #print(i,survival_rate)\n",
    "    survival_rates[i] = survival_rate\n",
    "    \n",
    "print(survival_rates)"
   ]
  },
  {
   "cell_type": "markdown",
   "metadata": {},
   "source": [
    "## Video 41: Mean Shift from Scratch"
   ]
  },
  {
   "cell_type": "code",
   "execution_count": 45,
   "metadata": {
    "collapsed": false
   },
   "outputs": [
    {
     "data": {
      "image/png": "[encoded data removed]",
      "text/plain": [
       "<matplotlib.figure.Figure at 0x110bc43c8>"
      ]
     },
     "metadata": {},
     "output_type": "display_data"
    }
   ],
   "source": [
    "import matplotlib.pyplot as plt\n",
    "from matplotlib import style\n",
    "style.use('ggplot')\n",
    "import numpy as np\n",
    "\n",
    "X = np.array([[1, 2],\n",
    "              [1.5, 1.8],\n",
    "              [5, 8 ],\n",
    "              [8, 8],\n",
    "              [1, 0.6],\n",
    "              [9,11],\n",
    "              [8,2],\n",
    "              [10,2],\n",
    "              [9,3],])\n",
    "\n",
    "##plt.scatter(X[:,0], X[:,1], s=150)\n",
    "##plt.show()\n",
    "\n",
    "colors = 10*[\"g\",\"r\",\"c\",\"b\",\"k\"]\n",
    "\n",
    "class Mean_Shift:\n",
    "    def __init__(self, radius=4):\n",
    "        self.radius = radius\n",
    "\n",
    "    def fit(self, data):\n",
    "        centroids = {}\n",
    "\n",
    "        for i in range(len(data)):\n",
    "            centroids[i] = data[i]\n",
    "        \n",
    "        while True:\n",
    "            new_centroids = []\n",
    "            for i in centroids:\n",
    "                in_bandwidth = []\n",
    "                centroid = centroids[i]\n",
    "                for featureset in data:\n",
    "                    if np.linalg.norm(featureset-centroid) < self.radius:\n",
    "                        in_bandwidth.append(featureset)\n",
    "\n",
    "                new_centroid = np.average(in_bandwidth,axis=0)\n",
    "                new_centroids.append(tuple(new_centroid))\n",
    "\n",
    "            uniques = sorted(list(set(new_centroids)))\n",
    "\n",
    "            prev_centroids = dict(centroids)\n",
    "\n",
    "            centroids = {}\n",
    "            for i in range(len(uniques)):\n",
    "                centroids[i] = np.array(uniques[i])\n",
    "\n",
    "            optimized = True\n",
    "\n",
    "            for i in centroids:\n",
    "                if not np.array_equal(centroids[i], prev_centroids[i]):\n",
    "                    optimized = False\n",
    "                if not optimized:\n",
    "                    break\n",
    "                \n",
    "            if optimized:\n",
    "                break\n",
    "\n",
    "        self.centroids = centroids\n",
    "\n",
    "\n",
    "\n",
    "clf = Mean_Shift()\n",
    "clf.fit(X)\n",
    "\n",
    "centroids = clf.centroids\n",
    "\n",
    "plt.scatter(X[:,0], X[:,1], s=150)\n",
    "\n",
    "for c in centroids:\n",
    "    plt.scatter(centroids[c][0], centroids[c][1], color='k', marker='*', s=150)\n",
    "\n",
    "plt.show()"
   ]
  },
  {
   "cell_type": "markdown",
   "metadata": {},
   "source": [
    "Make all datapoints centroids\n",
    "Take mean of all featuresets within centroid's radius, setting this mean as new centroid.\n",
    "Repeat step #2 until convergence."
   ]
  }
 ],
 "metadata": {
  "kernelspec": {
   "display_name": "Python 3",
   "language": "python",
   "name": "python3"
  },
  "language_info": {
   "codemirror_mode": {
    "name": "ipython",
    "version": 3
   },
   "file_extension": ".py",
   "mimetype": "text/x-python",
   "name": "python",
   "nbconvert_exporter": "python",
   "pygments_lexer": "ipython3",
   "version": "3.6.0"
  }
 },
 "nbformat": 4,
 "nbformat_minor": 2
}
